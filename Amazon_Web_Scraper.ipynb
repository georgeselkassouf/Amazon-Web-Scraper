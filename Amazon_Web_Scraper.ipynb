{
  "cells": [
    {
      "cell_type": "markdown",
      "metadata": {
        "id": "view-in-github",
        "colab_type": "text"
      },
      "source": [
        "<a href=\"https://colab.research.google.com/github/georgeselkassouf/Amazon-Web-Scraper/blob/main/Amazon_Web_Scraper.ipynb\" target=\"_parent\"><img src=\"https://colab.research.google.com/assets/colab-badge.svg\" alt=\"Open In Colab\"/></a>"
      ]
    },
    {
      "cell_type": "markdown",
      "source": [
        "### Mount Files from Google Drive"
      ],
      "metadata": {
        "id": "Dl6o8D1MDi21"
      },
      "id": "Dl6o8D1MDi21"
    },
    {
      "cell_type": "code",
      "source": [
        "from google.colab import drive\n",
        "drive.mount('/drive')"
      ],
      "metadata": {
        "id": "3uxW_KP6Bpa-"
      },
      "id": "3uxW_KP6Bpa-",
      "execution_count": null,
      "outputs": []
    },
    {
      "cell_type": "markdown",
      "source": [
        "### Import Libraries"
      ],
      "metadata": {
        "id": "No_G7UMSC1J-"
      },
      "id": "No_G7UMSC1J-"
    },
    {
      "cell_type": "code",
      "execution_count": null,
      "id": "1ff6777f",
      "metadata": {
        "id": "1ff6777f"
      },
      "outputs": [],
      "source": [
        "from bs4 import BeautifulSoup\n",
        "import requests\n",
        "import time\n",
        "import datetime"
      ]
    },
    {
      "cell_type": "markdown",
      "source": [
        "### Connect to the Website and Pull the Data"
      ],
      "metadata": {
        "id": "1CxPOSw3C5-V"
      },
      "id": "1CxPOSw3C5-V"
    },
    {
      "cell_type": "code",
      "execution_count": null,
      "id": "5f02ce37",
      "metadata": {
        "id": "5f02ce37"
      },
      "outputs": [],
      "source": [
        "URL = 'https://www.amazon.com/Oculus-Quest-Advanced-All-One-Virtual/dp/B099VMT8VZ/ref=sr_1_1_sspa?crid=1QQJ2Y4O7SNMU&keywords=oculus+quest+2&qid=1651519251&sprefix=oculus+quest+%2Caps%2C328&sr=8-1-spons&psc=1&spLa=ZW5jcnlwdGVkUXVhbGlmaWVyPUFLOUE5M1RSUUJUNVYmZW5jcnlwdGVkSWQ9QTAyMzk1ODgxUTlSSTM4WURLR0NBJmVuY3J5cHRlZEFkSWQ9QTAxNzM5NjM3VzVGNVE5Q1hYWkomd2lkZ2V0TmFtZT1zcF9hdGYmYWN0aW9uPWNsaWNrUmVkaXJlY3QmZG9Ob3RMb2dDbGljaz10cnVl'\n",
        "\n",
        "headers = {\"User-Agent\": \"Mozilla/5.0 (Windows NT 10.0; Win64; x64) AppleWebKit/537.36 (KHTML, like Gecko) Chrome/78.0.3904.108 Safari/537.36\", \"Accept-Encoding\":\"gzip, deflate\", \"Accept\":\"text/html,application/xhtml+xml,application/xml;q=0.9,*/*;q=0.8\", \"DNT\":\"1\",\"Connection\":\"close\", \"Upgrade-Insecure-Requests\":\"1\"}\n",
        "\n",
        "page = requests.get(URL, headers=headers)\n",
        "\n",
        "soup1 = BeautifulSoup(page.content, \"html.parser\")\n",
        "\n",
        "soup2 = BeautifulSoup(soup1.prettify(), \"html.parser\")\n",
        "\n",
        "try:\n",
        "\n",
        "  title = soup2.find(id='productTitle').get_text()\n",
        "  title = title.strip()\n",
        "  print(title)\n",
        "\n",
        "except:\n",
        "\n",
        "  print(\"Error\")\n",
        "\n",
        "try:\n",
        "\n",
        "  price = soup2.find(id='priceblock_ourprice').get_text()\n",
        "  price = price.strip()[1:]\n",
        "  print(price)\n",
        "\n",
        "except:\n",
        "\n",
        "  print(\"Error\")"
      ]
    },
    {
      "cell_type": "markdown",
      "source": [
        "### Create a CSV File and Write Headers and Data into it"
      ],
      "metadata": {
        "id": "fr40k3WDDCs9"
      },
      "id": "fr40k3WDDCs9"
    },
    {
      "cell_type": "code",
      "execution_count": null,
      "id": "54e35a37",
      "metadata": {
        "id": "54e35a37"
      },
      "outputs": [],
      "source": [
        "import csv\n",
        "\n",
        "today = datetime.datetime.now()\n",
        "\n",
        "header = ['Title', 'Price','Date']\n",
        "data = [title, price, today]\n",
        "    \n",
        "\n",
        "with open('AmazonWebScraper.csv', 'w', newline='', encoding = 'UTF8') as f:\n",
        "    writer = csv.writer(f)\n",
        "    writer.writerow(header)\n",
        "    writer.writerow(data)"
      ]
    },
    {
      "cell_type": "markdown",
      "source": [
        "### View the Data Inside the CSV"
      ],
      "metadata": {
        "id": "X5fzLvopDRCl"
      },
      "id": "X5fzLvopDRCl"
    },
    {
      "cell_type": "code",
      "execution_count": null,
      "id": "d2aefbd3",
      "metadata": {
        "id": "d2aefbd3"
      },
      "outputs": [],
      "source": [
        "import pandas as pd\n",
        "\n",
        "df = pd.read_csv('AmazonWebScraper.csv')\n",
        "\n",
        "print(df)"
      ]
    },
    {
      "cell_type": "markdown",
      "source": [
        "### Combine All of the Above Code into One Function"
      ],
      "metadata": {
        "id": "1zfu487bO3GM"
      },
      "id": "1zfu487bO3GM"
    },
    {
      "cell_type": "code",
      "source": [
        "def check_price():\n",
        "  URL = 'https://www.amazon.com/Oculus-Quest-Advanced-All-One-Virtual/dp/B099VMT8VZ/ref=sr_1_1_sspa?crid=1QQJ2Y4O7SNMU&keywords=oculus+quest+2&qid=1651519251&sprefix=oculus+quest+%2Caps%2C328&sr=8-1-spons&psc=1&spLa=ZW5jcnlwdGVkUXVhbGlmaWVyPUFLOUE5M1RSUUJUNVYmZW5jcnlwdGVkSWQ9QTAyMzk1ODgxUTlSSTM4WURLR0NBJmVuY3J5cHRlZEFkSWQ9QTAxNzM5NjM3VzVGNVE5Q1hYWkomd2lkZ2V0TmFtZT1zcF9hdGYmYWN0aW9uPWNsaWNrUmVkaXJlY3QmZG9Ob3RMb2dDbGljaz10cnVl'\n",
        "\n",
        "  headers = {\"User-Agent\": \"Mozilla/5.0 (Windows NT 10.0; Win64; x64) AppleWebKit/537.36 (KHTML, like Gecko) Chrome/78.0.3904.108 Safari/537.36\", \"Accept-Encoding\":\"gzip, deflate\", \"Accept\":\"text/html,application/xhtml+xml,application/xml;q=0.9,*/*;q=0.8\", \"DNT\":\"1\",\"Connection\":\"close\", \"Upgrade-Insecure-Requests\":\"1\"}\n",
        "\n",
        "  page = requests.get(URL, headers=headers)\n",
        "\n",
        "  soup1 = BeautifulSoup(page.content, \"html.parser\")\n",
        "\n",
        "  soup2 = BeautifulSoup(soup1.prettify(), \"html.parser\")\n",
        "\n",
        "  title = soup2.find(id='productTitle').get_text()\n",
        "\n",
        "  price = soup2.find(id='priceblock_ourprice').get_text()\n",
        "\n",
        "  price = price.strip()[1:]\n",
        "  title = title.strip()\n",
        "\n",
        "  today = datetime.datetime.now()\n",
        "\n",
        "  #Appending data to the csv\n",
        "\n",
        "  import csv\n",
        "\n",
        "  header = ['Title', 'Price', 'Date']\n",
        "  data = [title, price, today]\n",
        "\n",
        "  with open('AmazonWebScraper.csv', 'a+', newline='', encoding = 'UTF8') as f:\n",
        "    writer = csv.writer(f)\n",
        "    writer.writerow(data)"
      ],
      "metadata": {
        "id": "80HzNvkKN-pG"
      },
      "id": "80HzNvkKN-pG",
      "execution_count": null,
      "outputs": []
    },
    {
      "cell_type": "markdown",
      "source": [
        "### While Loop to Retrieve the Price Each 5 Hours"
      ],
      "metadata": {
        "id": "TNmLijIvC8KN"
      },
      "id": "TNmLijIvC8KN"
    },
    {
      "cell_type": "code",
      "execution_count": null,
      "id": "093a97bf",
      "metadata": {
        "id": "093a97bf"
      },
      "outputs": [],
      "source": [
        "while(True):\n",
        "    check_price()\n",
        "    time.sleep(18000)"
      ]
    },
    {
      "cell_type": "markdown",
      "source": [
        "### View the Full Data Inside the CSV"
      ],
      "metadata": {
        "id": "c5vYdnmOwj_S"
      },
      "id": "c5vYdnmOwj_S"
    },
    {
      "cell_type": "code",
      "source": [
        "import pandas as pd\n",
        "\n",
        "df = pd.read_csv('AmazonWebScraper.csv')\n",
        "\n",
        "print(df)"
      ],
      "metadata": {
        "id": "JllcoYJ9wjeT"
      },
      "id": "JllcoYJ9wjeT",
      "execution_count": null,
      "outputs": []
    }
  ],
  "metadata": {
    "kernelspec": {
      "display_name": "Python 3 (ipykernel)",
      "language": "python",
      "name": "python3"
    },
    "language_info": {
      "codemirror_mode": {
        "name": "ipython",
        "version": 3
      },
      "file_extension": ".py",
      "mimetype": "text/x-python",
      "name": "python",
      "nbconvert_exporter": "python",
      "pygments_lexer": "ipython3",
      "version": "3.9.2"
    },
    "colab": {
      "name": "Amazon Web Scraper.ipynb",
      "provenance": [],
      "collapsed_sections": [],
      "include_colab_link": true
    }
  },
  "nbformat": 4,
  "nbformat_minor": 5
}