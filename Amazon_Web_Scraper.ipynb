{
  "cells": [
    {
      "cell_type": "markdown",
      "metadata": {
        "id": "view-in-github",
        "colab_type": "text"
      },
      "source": [
        "<a href=\"https://colab.research.google.com/github/georgeselkassouf/Amazon-Web-Scraper/blob/main/Amazon_Web_Scraper.ipynb\" target=\"_parent\"><img src=\"https://colab.research.google.com/assets/colab-badge.svg\" alt=\"Open In Colab\"/></a>"
      ]
    },
    {
      "cell_type": "markdown",
      "source": [
        "### Import Libraries"
      ],
      "metadata": {
        "id": "No_G7UMSC1J-"
      },
      "id": "No_G7UMSC1J-"
    },
    {
      "cell_type": "code",
      "execution_count": 1,
      "id": "1ff6777f",
      "metadata": {
        "id": "1ff6777f"
      },
      "outputs": [],
      "source": [
        "from bs4 import BeautifulSoup\n",
        "import requests\n",
        "import time\n",
        "import datetime"
      ]
    },
    {
      "cell_type": "markdown",
      "source": [
        "### Mount Files from Google Drive"
      ],
      "metadata": {
        "id": "Dl6o8D1MDi21"
      },
      "id": "Dl6o8D1MDi21"
    },
    {
      "cell_type": "code",
      "source": [
        "from google.colab import drive\n",
        "drive.mount('/drive')"
      ],
      "metadata": {
        "id": "3uxW_KP6Bpa-",
        "colab": {
          "base_uri": "https://localhost:8080/"
        },
        "outputId": "0c9b8ee3-760d-411f-cdd7-b6dbd438295a"
      },
      "id": "3uxW_KP6Bpa-",
      "execution_count": 2,
      "outputs": [
        {
          "output_type": "stream",
          "name": "stdout",
          "text": [
            "Mounted at /drive\n"
          ]
        }
      ]
    },
    {
      "cell_type": "markdown",
      "source": [
        "### Connect to the Website and Pull the Data"
      ],
      "metadata": {
        "id": "1CxPOSw3C5-V"
      },
      "id": "1CxPOSw3C5-V"
    },
    {
      "cell_type": "code",
      "execution_count": 3,
      "id": "5f02ce37",
      "metadata": {
        "id": "5f02ce37",
        "colab": {
          "base_uri": "https://localhost:8080/"
        },
        "outputId": "3b23a58a-b916-4179-b47b-d85c0de1c866"
      },
      "outputs": [
        {
          "output_type": "stream",
          "name": "stdout",
          "text": [
            "Meta Quest 2 — Advanced All-In-One Virtual Reality Headset — 128 GB\n",
            "299.00\n"
          ]
        }
      ],
      "source": [
        "URL = 'https://www.amazon.com/Oculus-Quest-Advanced-All-One-Virtual/dp/B099VMT8VZ/ref=sr_1_1_sspa?crid=1QQJ2Y4O7SNMU&keywords=oculus+quest+2&qid=1651519251&sprefix=oculus+quest+%2Caps%2C328&sr=8-1-spons&psc=1&spLa=ZW5jcnlwdGVkUXVhbGlmaWVyPUFLOUE5M1RSUUJUNVYmZW5jcnlwdGVkSWQ9QTAyMzk1ODgxUTlSSTM4WURLR0NBJmVuY3J5cHRlZEFkSWQ9QTAxNzM5NjM3VzVGNVE5Q1hYWkomd2lkZ2V0TmFtZT1zcF9hdGYmYWN0aW9uPWNsaWNrUmVkaXJlY3QmZG9Ob3RMb2dDbGljaz10cnVl'\n",
        "\n",
        "headers = {\"User-Agent\": \"Mozilla/5.0 (Windows NT 10.0; Win64; x64) AppleWebKit/537.36 (KHTML, like Gecko) Chrome/78.0.3904.108 Safari/537.36\", \"Accept-Encoding\":\"gzip, deflate\", \"Accept\":\"text/html,application/xhtml+xml,application/xml;q=0.9,*/*;q=0.8\", \"DNT\":\"1\",\"Connection\":\"close\", \"Upgrade-Insecure-Requests\":\"1\"}\n",
        "\n",
        "page = requests.get(URL, headers=headers)\n",
        "\n",
        "soup1 = BeautifulSoup(page.content, \"html.parser\")\n",
        "\n",
        "soup2 = BeautifulSoup(soup1.prettify(), \"html.parser\")\n",
        "\n",
        "try:\n",
        "\n",
        "  title = soup2.find(id='productTitle').get_text()\n",
        "  title = title.strip()\n",
        "  print(title)\n",
        "\n",
        "except:\n",
        "\n",
        "  print(\"Error\")\n",
        "\n",
        "try:\n",
        "\n",
        "  price = soup2.find(id='priceblock_ourprice').get_text()\n",
        "  price = price.strip()[1:]\n",
        "  print(price)\n",
        "\n",
        "except:\n",
        "\n",
        "  print(\"Error\")"
      ]
    },
    {
      "cell_type": "markdown",
      "source": [
        "### Create a CSV File and Write Headers and Data into it"
      ],
      "metadata": {
        "id": "fr40k3WDDCs9"
      },
      "id": "fr40k3WDDCs9"
    },
    {
      "cell_type": "code",
      "execution_count": 4,
      "id": "54e35a37",
      "metadata": {
        "id": "54e35a37"
      },
      "outputs": [],
      "source": [
        "import csv\n",
        "\n",
        "today = datetime.datetime.now()\n",
        "\n",
        "header = ['Title', 'Price ($)','Date']\n",
        "data = [title, price, today]\n",
        "    \n",
        "\n",
        "with open('AmazonWebScraper.csv', 'w', newline='', encoding = 'UTF8') as f:\n",
        "    writer = csv.writer(f)\n",
        "    writer.writerow(header)\n",
        "    writer.writerow(data)"
      ]
    },
    {
      "cell_type": "markdown",
      "source": [
        "### View the Data Inside the CSV"
      ],
      "metadata": {
        "id": "X5fzLvopDRCl"
      },
      "id": "X5fzLvopDRCl"
    },
    {
      "cell_type": "code",
      "execution_count": 5,
      "id": "d2aefbd3",
      "metadata": {
        "id": "d2aefbd3",
        "colab": {
          "base_uri": "https://localhost:8080/"
        },
        "outputId": "f48d21f9-34b8-4ea9-b740-db21fdb1bd1c"
      },
      "outputs": [
        {
          "output_type": "stream",
          "name": "stdout",
          "text": [
            "                                               Title  Price ($)  \\\n",
            "0  Meta Quest 2 — Advanced All-In-One Virtual Rea...      299.0   \n",
            "\n",
            "                   Date (GMT)  \n",
            "0  2022-06-27 14:31:38.753059  \n"
          ]
        }
      ],
      "source": [
        "import pandas as pd\n",
        "\n",
        "df = pd.read_csv('AmazonWebScraper.csv')\n",
        "\n",
        "print(df)"
      ]
    },
    {
      "cell_type": "markdown",
      "source": [
        "### Combine All of the Above Code into One Function"
      ],
      "metadata": {
        "id": "1zfu487bO3GM"
      },
      "id": "1zfu487bO3GM"
    },
    {
      "cell_type": "code",
      "source": [
        "def check_price():\n",
        "  URL = 'https://www.amazon.com/Oculus-Quest-Advanced-All-One-Virtual/dp/B099VMT8VZ/ref=sr_1_1_sspa?crid=1QQJ2Y4O7SNMU&keywords=oculus+quest+2&qid=1651519251&sprefix=oculus+quest+%2Caps%2C328&sr=8-1-spons&psc=1&spLa=ZW5jcnlwdGVkUXVhbGlmaWVyPUFLOUE5M1RSUUJUNVYmZW5jcnlwdGVkSWQ9QTAyMzk1ODgxUTlSSTM4WURLR0NBJmVuY3J5cHRlZEFkSWQ9QTAxNzM5NjM3VzVGNVE5Q1hYWkomd2lkZ2V0TmFtZT1zcF9hdGYmYWN0aW9uPWNsaWNrUmVkaXJlY3QmZG9Ob3RMb2dDbGljaz10cnVl'\n",
        "\n",
        "  headers = {\"User-Agent\": \"Mozilla/5.0 (Windows NT 10.0; Win64; x64) AppleWebKit/537.36 (KHTML, like Gecko) Chrome/78.0.3904.108 Safari/537.36\", \"Accept-Encoding\":\"gzip, deflate\", \"Accept\":\"text/html,application/xhtml+xml,application/xml;q=0.9,*/*;q=0.8\", \"DNT\":\"1\",\"Connection\":\"close\", \"Upgrade-Insecure-Requests\":\"1\"}\n",
        "\n",
        "  page = requests.get(URL, headers=headers)\n",
        "\n",
        "  soup1 = BeautifulSoup(page.content, \"html.parser\")\n",
        "\n",
        "  soup2 = BeautifulSoup(soup1.prettify(), \"html.parser\")\n",
        "\n",
        "  title = soup2.find(id='productTitle').get_text()\n",
        "\n",
        "  price = soup2.find(id='priceblock_ourprice').get_text()\n",
        "\n",
        "  price = price.strip()[1:]\n",
        "  title = title.strip()\n",
        "\n",
        "  today = datetime.date.today()\n",
        "\n",
        "  #Appending data to the csv\n",
        "\n",
        "  import csv\n",
        "\n",
        "  header = ['Title', 'Price', 'Date']\n",
        "  data = [title, price, today]\n",
        "\n",
        "  with open('AmazonWebScraper.csv', 'a+', newline='', encoding = 'UTF8') as f:\n",
        "    writer = csv.writer(f)\n",
        "    writer.writerow(data)"
      ],
      "metadata": {
        "id": "80HzNvkKN-pG"
      },
      "id": "80HzNvkKN-pG",
      "execution_count": 6,
      "outputs": []
    },
    {
      "cell_type": "markdown",
      "source": [
        "### While Loop to Retrieve the Price Each 1 Day"
      ],
      "metadata": {
        "id": "TNmLijIvC8KN"
      },
      "id": "TNmLijIvC8KN"
    },
    {
      "cell_type": "code",
      "execution_count": 7,
      "id": "093a97bf",
      "metadata": {
        "id": "093a97bf",
        "colab": {
          "base_uri": "https://localhost:8080/",
          "height": 321
        },
        "outputId": "d4eed465-f67d-4d40-9a8f-3eaad99c3390"
      },
      "outputs": [
        {
          "output_type": "error",
          "ename": "AttributeError",
          "evalue": "ignored",
          "traceback": [
            "\u001b[0;31m---------------------------------------------------------------------------\u001b[0m",
            "\u001b[0;31mAttributeError\u001b[0m                            Traceback (most recent call last)",
            "\u001b[0;32m<ipython-input-7-d43788125042>\u001b[0m in \u001b[0;36m<module>\u001b[0;34m()\u001b[0m\n\u001b[1;32m      1\u001b[0m \u001b[0;32mwhile\u001b[0m\u001b[0;34m(\u001b[0m\u001b[0;32mTrue\u001b[0m\u001b[0;34m)\u001b[0m\u001b[0;34m:\u001b[0m\u001b[0;34m\u001b[0m\u001b[0;34m\u001b[0m\u001b[0m\n\u001b[0;32m----> 2\u001b[0;31m     \u001b[0mcheck_price\u001b[0m\u001b[0;34m(\u001b[0m\u001b[0;34m)\u001b[0m\u001b[0;34m\u001b[0m\u001b[0;34m\u001b[0m\u001b[0m\n\u001b[0m\u001b[1;32m      3\u001b[0m     \u001b[0mtime\u001b[0m\u001b[0;34m.\u001b[0m\u001b[0msleep\u001b[0m\u001b[0;34m(\u001b[0m\u001b[0;36m18000\u001b[0m\u001b[0;34m)\u001b[0m\u001b[0;34m\u001b[0m\u001b[0;34m\u001b[0m\u001b[0m\n",
            "\u001b[0;32m<ipython-input-6-6401cc6f7d60>\u001b[0m in \u001b[0;36mcheck_price\u001b[0;34m()\u001b[0m\n\u001b[1;32m     10\u001b[0m   \u001b[0msoup2\u001b[0m \u001b[0;34m=\u001b[0m \u001b[0mBeautifulSoup\u001b[0m\u001b[0;34m(\u001b[0m\u001b[0msoup1\u001b[0m\u001b[0;34m.\u001b[0m\u001b[0mprettify\u001b[0m\u001b[0;34m(\u001b[0m\u001b[0;34m)\u001b[0m\u001b[0;34m,\u001b[0m \u001b[0;34m\"html.parser\"\u001b[0m\u001b[0;34m)\u001b[0m\u001b[0;34m\u001b[0m\u001b[0;34m\u001b[0m\u001b[0m\n\u001b[1;32m     11\u001b[0m \u001b[0;34m\u001b[0m\u001b[0m\n\u001b[0;32m---> 12\u001b[0;31m   \u001b[0mtitle\u001b[0m \u001b[0;34m=\u001b[0m \u001b[0msoup2\u001b[0m\u001b[0;34m.\u001b[0m\u001b[0mfind\u001b[0m\u001b[0;34m(\u001b[0m\u001b[0mid\u001b[0m\u001b[0;34m=\u001b[0m\u001b[0;34m'productTitle'\u001b[0m\u001b[0;34m)\u001b[0m\u001b[0;34m.\u001b[0m\u001b[0mget_text\u001b[0m\u001b[0;34m(\u001b[0m\u001b[0;34m)\u001b[0m\u001b[0;34m\u001b[0m\u001b[0;34m\u001b[0m\u001b[0m\n\u001b[0m\u001b[1;32m     13\u001b[0m \u001b[0;34m\u001b[0m\u001b[0m\n\u001b[1;32m     14\u001b[0m   \u001b[0mprice\u001b[0m \u001b[0;34m=\u001b[0m \u001b[0msoup2\u001b[0m\u001b[0;34m.\u001b[0m\u001b[0mfind\u001b[0m\u001b[0;34m(\u001b[0m\u001b[0mid\u001b[0m\u001b[0;34m=\u001b[0m\u001b[0;34m'priceblock_ourprice'\u001b[0m\u001b[0;34m)\u001b[0m\u001b[0;34m.\u001b[0m\u001b[0mget_text\u001b[0m\u001b[0;34m(\u001b[0m\u001b[0;34m)\u001b[0m\u001b[0;34m\u001b[0m\u001b[0;34m\u001b[0m\u001b[0m\n",
            "\u001b[0;31mAttributeError\u001b[0m: 'NoneType' object has no attribute 'get_text'"
          ]
        }
      ],
      "source": [
        "while(True):\n",
        "    check_price()\n",
        "    time.sleep(86400)"
      ]
    },
    {
      "cell_type": "markdown",
      "source": [
        "### View the Full Data Inside the CSV"
      ],
      "metadata": {
        "id": "c5vYdnmOwj_S"
      },
      "id": "c5vYdnmOwj_S"
    },
    {
      "cell_type": "code",
      "source": [
        "import pandas as pd\n",
        "\n",
        "df = pd.read_csv('AmazonWebScraper.csv')\n",
        "\n",
        "print(df)"
      ],
      "metadata": {
        "id": "JllcoYJ9wjeT"
      },
      "id": "JllcoYJ9wjeT",
      "execution_count": null,
      "outputs": []
    }
  ],
  "metadata": {
    "kernelspec": {
      "display_name": "Python 3 (ipykernel)",
      "language": "python",
      "name": "python3"
    },
    "language_info": {
      "codemirror_mode": {
        "name": "ipython",
        "version": 3
      },
      "file_extension": ".py",
      "mimetype": "text/x-python",
      "name": "python",
      "nbconvert_exporter": "python",
      "pygments_lexer": "ipython3",
      "version": "3.9.2"
    },
    "colab": {
      "name": "Amazon Web Scraper.ipynb",
      "provenance": [],
      "collapsed_sections": [],
      "include_colab_link": true
    }
  },
  "nbformat": 4,
  "nbformat_minor": 5
}