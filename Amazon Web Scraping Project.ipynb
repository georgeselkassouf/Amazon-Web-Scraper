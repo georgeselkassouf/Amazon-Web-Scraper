{
 "cells": [
  {
   "cell_type": "code",
   "execution_count": null,
   "id": "a198d1d0",
   "metadata": {},
   "outputs": [],
   "source": [
    "### Import libraries\n",
    "\n",
    "from bs4 import BeautifulSoup\n",
    "import requests\n",
    "import smtplib\n",
    "import time"
   ]
  },
  {
   "cell_type": "code",
   "execution_count": null,
   "id": "d6a7cf6b",
   "metadata": {},
   "outputs": [],
   "source": [
    "### Main function to check the price drop\n",
    "\n",
    "def check_price():\n",
    "    \n",
    "    URL = 'https://www.amazon.com/Oculus-Quest-Advanced-All-One-Virtual/dp/B099VMT8VZ/ref=sr_1_1_sspa?crid=1QQJ2Y4O7SNMU&keywords=oculus+quest+2&qid=1651519251&sprefix=oculus+quest+%2Caps%2C328&sr=8-1-spons&psc=1&spLa=ZW5jcnlwdGVkUXVhbGlmaWVyPUFLOUE5M1RSUUJUNVYmZW5jcnlwdGVkSWQ9QTAyMzk1ODgxUTlSSTM4WURLR0NBJmVuY3J5cHRlZEFkSWQ9QTAxNzM5NjM3VzVGNVE5Q1hYWkomd2lkZ2V0TmFtZT1zcF9hdGYmYWN0aW9uPWNsaWNrUmVkaXJlY3QmZG9Ob3RMb2dDbGljaz10cnVl'\n",
    "\n",
    "    headers = {\"User-Agent\": \"Mozilla/5.0 (Windows NT 10.0; Win64; x64) AppleWebKit/537.36 (KHTML, like Gecko) Chrome/78.0.3904.108 Safari/537.36\", \"Accept-Encoding\":\"gzip, deflate\", \"Accept\":\"text/html,application/xhtml+xml,application/xml;q=0.9,*/*;q=0.8\", \"DNT\":\"1\",\"Connection\":\"close\", \"Upgrade-Insecure-Requests\":\"1\"}\n",
    "\n",
    "    page = requests.get(URL, headers=headers)\n",
    "\n",
    "    soup1 = BeautifulSoup(page.content, \"html.parser\")\n",
    "\n",
    "    soup2 = BeautifulSoup(soup1.prettify(), \"html.parser\")\n",
    "\n",
    "    title = soup2.find(id='productTitle').get_text()\n",
    "\n",
    "    price = soup2.find(id='priceblock_ourprice').get_text()\n",
    "\n",
    "    price = price.strip()[1:]\n",
    "    title = title.strip()\n",
    "    \n",
    "    import datetime\n",
    "    today = datetime.datetime.now()\n",
    "\n",
    "    import csv\n",
    "\n",
    "    header = ['Title', 'Price', 'Date']\n",
    "    data = [title, price, today]\n",
    "    \n",
    "    # Appending data to the csv\n",
    "    \n",
    "    with open('Amazon Web Scraper.csv', 'a+', newline='', encoding = 'UTF8') as f:\n",
    "        writer = csv.writer(f)\n",
    "        writer.writerow(data)\n",
    "        \n",
    "if (float(price) < 270):\n",
    "    send_mail()"
   ]
  },
  {
   "cell_type": "code",
   "execution_count": null,
   "id": "093a97bf",
   "metadata": {},
   "outputs": [],
   "source": [
    "### While loop to retrieve the price each 5 hours\n",
    "\n",
    "while(True):\n",
    "    check_price()\n",
    "    time.sleep(18000)"
   ]
  },
  {
   "cell_type": "code",
   "execution_count": null,
   "id": "a5477c08",
   "metadata": {},
   "outputs": [],
   "source": [
    "#import csv\n",
    "\n",
    "#header = ['Title', 'Price','Date']\n",
    "#data = [title, price, today]\n",
    "    \n",
    "\n",
    "#with open('Amazon Web Scraper.csv', 'w', newline='', encoding = 'UTF8') as f:\n",
    "    #writer = csv.writer(f)\n",
    "    #writer.writerow(header)\n",
    "    #writer.writerow(data)"
   ]
  },
  {
   "cell_type": "code",
   "execution_count": null,
   "id": "d2aefbd3",
   "metadata": {},
   "outputs": [],
   "source": [
    "### Exporting the results to a csv file\n",
    "\n",
    "#import pandas as pd\n",
    "\n",
    "#df = pd.read_csv(r'C:\\Users\\Georges\\Amazon Web Scraper.csv')\n",
    "\n",
    "#print(df)"
   ]
  },
  {
   "cell_type": "code",
   "execution_count": null,
   "id": "7391e683",
   "metadata": {},
   "outputs": [],
   "source": [
    "# Function to send the email once the desired price is reached\n",
    "\n",
    "def send_mail():\n",
    "    \n",
    "    server = smtplib.SMTP_SSL('smtp.gmail.com',465)\n",
    "    server.ehlo()\n",
    "    #server.starttls()\n",
    "    server.ehlo()\n",
    "    server.login('georges.elkassouf@gmail.com','PASSWORD')\n",
    "    \n",
    "    subject = \"Price Drop\"\n",
    "    body = \"Georges, \\n \\n The Oculus Quest 2 is below $180! \\n \\n Link here: \\n https://www.amazon.com/Oculus-Quest-Advanced-All-One-Virtual/dp/B099VMT8VZ/ref=sr_1_1_sspa?crid=1QQJ2Y4O7SNMU&keywords=oculus+quest+2&qid=1651519251&sprefix=oculus+quest+%2Caps%2C328&sr=8-1-spons&psc=1&spLa=ZW5jcnlwdGVkUXVhbGlmaWVyPUFLOUE5M1RSUUJUNVYmZW5jcnlwdGVkSWQ9QTAyMzk1ODgxUTlSSTM4WURLR0NBJmVuY3J5cHRlZEFkSWQ9QTAxNzM5NjM3VzVGNVE5Q1hYWkomd2lkZ2V0TmFtZT1zcF9hdGYmYWN0aW9uPWNsaWNrUmVkaXJlY3QmZG9Ob3RMb2dDbGljaz10cnVl \\n \\n Regards,\"\n",
    "   \n",
    "    msg = f\"Subject: {subject}\\n\\n{body}\"\n",
    "    \n",
    "    server.sendmail(\n",
    "        'georges.elkassouf@gmail.com', 'georges.elkassouf@gmail.com', msg)"
   ]
  }
 ],
 "metadata": {
  "kernelspec": {
   "display_name": "Python 3 (ipykernel)",
   "language": "python",
   "name": "python3"
  },
  "language_info": {
   "codemirror_mode": {
    "name": "ipython",
    "version": 3
   },
   "file_extension": ".py",
   "mimetype": "text/x-python",
   "name": "python",
   "nbconvert_exporter": "python",
   "pygments_lexer": "ipython3",
   "version": "3.9.2"
  }
 },
 "nbformat": 4,
 "nbformat_minor": 5
}
